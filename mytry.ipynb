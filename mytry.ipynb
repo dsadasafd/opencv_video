{
 "cells": [
  {
   "cell_type": "code",
   "execution_count": 3,
   "id": "4269674b-c5f6-4364-81a0-393a46fcb2fb",
   "metadata": {
    "tags": []
   },
   "outputs": [],
   "source": [
    "import cv2\n",
    "import numpy as np"
   ]
  },
  {
   "cell_type": "code",
   "execution_count": 31,
   "id": "1d3f0a61-8ef9-406f-98ba-950a5b53387b",
   "metadata": {
    "tags": []
   },
   "outputs": [],
   "source": [
    "test_video = cv2.VideoCapture(\"video_test.mp4\")\n",
    "kernel = cv2.getStructuringElement(cv2.MORPH_ELLIPSE, (3,3))\n",
    "bg_subtractor = cv2.createBackgroundSubtractorMOG2()\n",
    "\n",
    "window_width = 1000\n",
    "window_height = 600"
   ]
  },
  {
   "cell_type": "code",
   "execution_count": 32,
   "id": "c0df9dc5-a911-4762-8cca-688c2bfc8e24",
   "metadata": {
    "tags": []
   },
   "outputs": [],
   "source": [
    "while 1:\n",
    "    open, frame = test_video.read()\n",
    "    if frame is None or not open:\n",
    "        break\n",
    "    else:\n",
    "        bgmask = bg_subtractor.apply(frame)\n",
    "        bgmask = cv2.morphologyEx(bgmask, cv2.MORPH_OPEN, kernel)\n",
    "        contours, hierarchy = cv2.findContours(bgmask, cv2.RETR_EXTERNAL, cv2.CHAIN_APPROX_SIMPLE)\n",
    "        for c in contours:\n",
    "            perimeter = cv2.arcLength(c, True)\n",
    "            if perimeter > 800:\n",
    "                x,y,w,h = cv2.boundingRect(c)\n",
    "                cv2.rectangle(frame, (x,y), (x+w,y+h), (0,255,0), 2)\n",
    "                \n",
    "    cv2.namedWindow('frame', cv2.WINDOW_NORMAL)\n",
    "    cv2.resizeWindow('frame', window_width, window_height)\n",
    "    cv2.imshow('frame', frame)\n",
    "    #cv2.imshow('bgmask', bgmask)\n",
    "    cv2.waitKey(10)\n",
    "    \n",
    "test_video.release()\n",
    "cv2.destroyAllWindows()\n",
    "\n"
   ]
  },
  {
   "cell_type": "code",
   "execution_count": null,
   "id": "9a0a2fec-9ad8-4add-a6f2-fed90054fb78",
   "metadata": {},
   "outputs": [],
   "source": []
  }
 ],
 "metadata": {
  "kernelspec": {
   "display_name": "Python 3 (ipykernel)",
   "language": "python",
   "name": "python3"
  },
  "language_info": {
   "codemirror_mode": {
    "name": "ipython",
    "version": 3
   },
   "file_extension": ".py",
   "mimetype": "text/x-python",
   "name": "python",
   "nbconvert_exporter": "python",
   "pygments_lexer": "ipython3",
   "version": "3.10.11"
  }
 },
 "nbformat": 4,
 "nbformat_minor": 5
}
